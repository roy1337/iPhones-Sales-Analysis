{
 "cells": [
  {
   "cell_type": "markdown",
   "id": "b9b0681d",
   "metadata": {},
   "source": [
    "**iPhones** have consistently held their position as some of the **most successful smartphones globally**, a fact that never fails to captivate tech enthusiasts. To delve deeper into the fascinating world of iPhone sales, I embarked on a journey to explore and analyze a comprehensive iPhone sales dataset available on **Kaggle**. You can access the dataset through this link: [iPhone Sales Dataset on Kaggle](https://www.kaggle.com/datasets/komalkhetlani/apple-iphone-data)\n",
    " Through this analysis, my aim is to **extract valuable insights** and shed light on the enduring popularity of this iconic device."
   ]
  },
  {
   "cell_type": "code",
   "execution_count": 1,
   "id": "5a521822",
   "metadata": {},
   "outputs": [],
   "source": [
    "import pandas as pd\n",
    "import numpy as np\n",
    "import plotly.graph_objects as go\n",
    "import plotly.express as px\n",
    "import plotly.io as pio\n",
    "pio.renderers.default = 'notebook'\n",
    "import kaleido"
   ]
  },
  {
   "cell_type": "code",
   "execution_count": 2,
   "id": "5d26774f",
   "metadata": {},
   "outputs": [
    {
     "data": {
      "text/html": [
       "<div>\n",
       "<style scoped>\n",
       "    .dataframe tbody tr th:only-of-type {\n",
       "        vertical-align: middle;\n",
       "    }\n",
       "\n",
       "    .dataframe tbody tr th {\n",
       "        vertical-align: top;\n",
       "    }\n",
       "\n",
       "    .dataframe thead th {\n",
       "        text-align: right;\n",
       "    }\n",
       "</style>\n",
       "<table border=\"1\" class=\"dataframe\">\n",
       "  <thead>\n",
       "    <tr style=\"text-align: right;\">\n",
       "      <th></th>\n",
       "      <th>Product Name</th>\n",
       "      <th>Product URL</th>\n",
       "      <th>Brand</th>\n",
       "      <th>Sale Price</th>\n",
       "      <th>Mrp</th>\n",
       "      <th>Discount Percentage</th>\n",
       "      <th>Number Of Ratings</th>\n",
       "      <th>Number Of Reviews</th>\n",
       "      <th>Upc</th>\n",
       "      <th>Star Rating</th>\n",
       "      <th>Ram</th>\n",
       "    </tr>\n",
       "  </thead>\n",
       "  <tbody>\n",
       "    <tr>\n",
       "      <th>0</th>\n",
       "      <td>APPLE iPhone 8 Plus (Gold, 64 GB)</td>\n",
       "      <td>https://www.flipkart.com/apple-iphone-8-plus-g...</td>\n",
       "      <td>Apple</td>\n",
       "      <td>49900</td>\n",
       "      <td>49900</td>\n",
       "      <td>0</td>\n",
       "      <td>3431</td>\n",
       "      <td>356</td>\n",
       "      <td>MOBEXRGV7EHHTGUH</td>\n",
       "      <td>4.6</td>\n",
       "      <td>2 GB</td>\n",
       "    </tr>\n",
       "    <tr>\n",
       "      <th>1</th>\n",
       "      <td>APPLE iPhone 8 Plus (Space Grey, 256 GB)</td>\n",
       "      <td>https://www.flipkart.com/apple-iphone-8-plus-s...</td>\n",
       "      <td>Apple</td>\n",
       "      <td>84900</td>\n",
       "      <td>84900</td>\n",
       "      <td>0</td>\n",
       "      <td>3431</td>\n",
       "      <td>356</td>\n",
       "      <td>MOBEXRGVAC6TJT4F</td>\n",
       "      <td>4.6</td>\n",
       "      <td>2 GB</td>\n",
       "    </tr>\n",
       "    <tr>\n",
       "      <th>2</th>\n",
       "      <td>APPLE iPhone 8 Plus (Silver, 256 GB)</td>\n",
       "      <td>https://www.flipkart.com/apple-iphone-8-plus-s...</td>\n",
       "      <td>Apple</td>\n",
       "      <td>84900</td>\n",
       "      <td>84900</td>\n",
       "      <td>0</td>\n",
       "      <td>3431</td>\n",
       "      <td>356</td>\n",
       "      <td>MOBEXRGVGETABXWZ</td>\n",
       "      <td>4.6</td>\n",
       "      <td>2 GB</td>\n",
       "    </tr>\n",
       "    <tr>\n",
       "      <th>3</th>\n",
       "      <td>APPLE iPhone 8 (Silver, 256 GB)</td>\n",
       "      <td>https://www.flipkart.com/apple-iphone-8-silver...</td>\n",
       "      <td>Apple</td>\n",
       "      <td>77000</td>\n",
       "      <td>77000</td>\n",
       "      <td>0</td>\n",
       "      <td>11202</td>\n",
       "      <td>794</td>\n",
       "      <td>MOBEXRGVMZWUHCBA</td>\n",
       "      <td>4.5</td>\n",
       "      <td>2 GB</td>\n",
       "    </tr>\n",
       "    <tr>\n",
       "      <th>4</th>\n",
       "      <td>APPLE iPhone 8 (Gold, 256 GB)</td>\n",
       "      <td>https://www.flipkart.com/apple-iphone-8-gold-2...</td>\n",
       "      <td>Apple</td>\n",
       "      <td>77000</td>\n",
       "      <td>77000</td>\n",
       "      <td>0</td>\n",
       "      <td>11202</td>\n",
       "      <td>794</td>\n",
       "      <td>MOBEXRGVPK7PFEJZ</td>\n",
       "      <td>4.5</td>\n",
       "      <td>2 GB</td>\n",
       "    </tr>\n",
       "  </tbody>\n",
       "</table>\n",
       "</div>"
      ],
      "text/plain": [
       "                               Product Name  \\\n",
       "0         APPLE iPhone 8 Plus (Gold, 64 GB)   \n",
       "1  APPLE iPhone 8 Plus (Space Grey, 256 GB)   \n",
       "2      APPLE iPhone 8 Plus (Silver, 256 GB)   \n",
       "3           APPLE iPhone 8 (Silver, 256 GB)   \n",
       "4             APPLE iPhone 8 (Gold, 256 GB)   \n",
       "\n",
       "                                         Product URL  Brand  Sale Price  \\\n",
       "0  https://www.flipkart.com/apple-iphone-8-plus-g...  Apple       49900   \n",
       "1  https://www.flipkart.com/apple-iphone-8-plus-s...  Apple       84900   \n",
       "2  https://www.flipkart.com/apple-iphone-8-plus-s...  Apple       84900   \n",
       "3  https://www.flipkart.com/apple-iphone-8-silver...  Apple       77000   \n",
       "4  https://www.flipkart.com/apple-iphone-8-gold-2...  Apple       77000   \n",
       "\n",
       "     Mrp  Discount Percentage  Number Of Ratings  Number Of Reviews  \\\n",
       "0  49900                    0               3431                356   \n",
       "1  84900                    0               3431                356   \n",
       "2  84900                    0               3431                356   \n",
       "3  77000                    0              11202                794   \n",
       "4  77000                    0              11202                794   \n",
       "\n",
       "                Upc  Star Rating   Ram  \n",
       "0  MOBEXRGV7EHHTGUH          4.6  2 GB  \n",
       "1  MOBEXRGVAC6TJT4F          4.6  2 GB  \n",
       "2  MOBEXRGVGETABXWZ          4.6  2 GB  \n",
       "3  MOBEXRGVMZWUHCBA          4.5  2 GB  \n",
       "4  MOBEXRGVPK7PFEJZ          4.5  2 GB  "
      ]
     },
     "execution_count": 2,
     "metadata": {},
     "output_type": "execute_result"
    }
   ],
   "source": [
    "data = pd.read_csv('apple_iphones.csv')\n",
    "data.head()"
   ]
  },
  {
   "cell_type": "code",
   "execution_count": 3,
   "id": "43ee8c90",
   "metadata": {
    "scrolled": true
   },
   "outputs": [
    {
     "data": {
      "text/html": [
       "<div>\n",
       "<style scoped>\n",
       "    .dataframe tbody tr th:only-of-type {\n",
       "        vertical-align: middle;\n",
       "    }\n",
       "\n",
       "    .dataframe tbody tr th {\n",
       "        vertical-align: top;\n",
       "    }\n",
       "\n",
       "    .dataframe thead th {\n",
       "        text-align: right;\n",
       "    }\n",
       "</style>\n",
       "<table border=\"1\" class=\"dataframe\">\n",
       "  <thead>\n",
       "    <tr style=\"text-align: right;\">\n",
       "      <th></th>\n",
       "      <th>Sale Price</th>\n",
       "      <th>Mrp</th>\n",
       "      <th>Discount Percentage</th>\n",
       "      <th>Number Of Ratings</th>\n",
       "      <th>Number Of Reviews</th>\n",
       "      <th>Star Rating</th>\n",
       "    </tr>\n",
       "  </thead>\n",
       "  <tbody>\n",
       "    <tr>\n",
       "      <th>count</th>\n",
       "      <td>62.000000</td>\n",
       "      <td>62.000000</td>\n",
       "      <td>62.000000</td>\n",
       "      <td>62.000000</td>\n",
       "      <td>62.000000</td>\n",
       "      <td>62.000000</td>\n",
       "    </tr>\n",
       "    <tr>\n",
       "      <th>mean</th>\n",
       "      <td>80073.887097</td>\n",
       "      <td>88058.064516</td>\n",
       "      <td>9.951613</td>\n",
       "      <td>22420.403226</td>\n",
       "      <td>1861.677419</td>\n",
       "      <td>4.575806</td>\n",
       "    </tr>\n",
       "    <tr>\n",
       "      <th>std</th>\n",
       "      <td>34310.446132</td>\n",
       "      <td>34728.825597</td>\n",
       "      <td>7.608079</td>\n",
       "      <td>33768.589550</td>\n",
       "      <td>2855.883830</td>\n",
       "      <td>0.059190</td>\n",
       "    </tr>\n",
       "    <tr>\n",
       "      <th>min</th>\n",
       "      <td>29999.000000</td>\n",
       "      <td>39900.000000</td>\n",
       "      <td>0.000000</td>\n",
       "      <td>542.000000</td>\n",
       "      <td>42.000000</td>\n",
       "      <td>4.500000</td>\n",
       "    </tr>\n",
       "    <tr>\n",
       "      <th>25%</th>\n",
       "      <td>49900.000000</td>\n",
       "      <td>54900.000000</td>\n",
       "      <td>6.000000</td>\n",
       "      <td>740.000000</td>\n",
       "      <td>64.000000</td>\n",
       "      <td>4.500000</td>\n",
       "    </tr>\n",
       "    <tr>\n",
       "      <th>50%</th>\n",
       "      <td>75900.000000</td>\n",
       "      <td>79900.000000</td>\n",
       "      <td>10.000000</td>\n",
       "      <td>2101.000000</td>\n",
       "      <td>180.000000</td>\n",
       "      <td>4.600000</td>\n",
       "    </tr>\n",
       "    <tr>\n",
       "      <th>75%</th>\n",
       "      <td>117100.000000</td>\n",
       "      <td>120950.000000</td>\n",
       "      <td>14.000000</td>\n",
       "      <td>43470.000000</td>\n",
       "      <td>3331.000000</td>\n",
       "      <td>4.600000</td>\n",
       "    </tr>\n",
       "    <tr>\n",
       "      <th>max</th>\n",
       "      <td>140900.000000</td>\n",
       "      <td>149900.000000</td>\n",
       "      <td>29.000000</td>\n",
       "      <td>95909.000000</td>\n",
       "      <td>8161.000000</td>\n",
       "      <td>4.700000</td>\n",
       "    </tr>\n",
       "  </tbody>\n",
       "</table>\n",
       "</div>"
      ],
      "text/plain": [
       "          Sale Price            Mrp  Discount Percentage  Number Of Ratings  \\\n",
       "count      62.000000      62.000000            62.000000          62.000000   \n",
       "mean    80073.887097   88058.064516             9.951613       22420.403226   \n",
       "std     34310.446132   34728.825597             7.608079       33768.589550   \n",
       "min     29999.000000   39900.000000             0.000000         542.000000   \n",
       "25%     49900.000000   54900.000000             6.000000         740.000000   \n",
       "50%     75900.000000   79900.000000            10.000000        2101.000000   \n",
       "75%    117100.000000  120950.000000            14.000000       43470.000000   \n",
       "max    140900.000000  149900.000000            29.000000       95909.000000   \n",
       "\n",
       "       Number Of Reviews  Star Rating  \n",
       "count          62.000000    62.000000  \n",
       "mean         1861.677419     4.575806  \n",
       "std          2855.883830     0.059190  \n",
       "min            42.000000     4.500000  \n",
       "25%            64.000000     4.500000  \n",
       "50%           180.000000     4.600000  \n",
       "75%          3331.000000     4.600000  \n",
       "max          8161.000000     4.700000  "
      ]
     },
     "execution_count": 3,
     "metadata": {},
     "output_type": "execute_result"
    }
   ],
   "source": [
    "data.describe()"
   ]
  },
  {
   "cell_type": "code",
   "execution_count": 4,
   "id": "5e0d3b62",
   "metadata": {},
   "outputs": [
    {
     "data": {
      "text/plain": [
       "Product Name           0\n",
       "Product URL            0\n",
       "Brand                  0\n",
       "Sale Price             0\n",
       "Mrp                    0\n",
       "Discount Percentage    0\n",
       "Number Of Ratings      0\n",
       "Number Of Reviews      0\n",
       "Upc                    0\n",
       "Star Rating            0\n",
       "Ram                    0\n",
       "dtype: int64"
      ]
     },
     "execution_count": 4,
     "metadata": {},
     "output_type": "execute_result"
    }
   ],
   "source": [
    "data.isnull().sum()"
   ]
  },
  {
   "cell_type": "markdown",
   "id": "cd76800a",
   "metadata": {},
   "source": [
    "As there are no nulls, we can start our analysis.\n",
    "\n",
    "Let's check the top 10 **highest rated iphones** on our dataset."
   ]
  },
  {
   "cell_type": "code",
   "execution_count": 6,
   "id": "ee133e87",
   "metadata": {},
   "outputs": [
    {
     "data": {
      "text/html": [
       "<div>\n",
       "<style scoped>\n",
       "    .dataframe tbody tr th:only-of-type {\n",
       "        vertical-align: middle;\n",
       "    }\n",
       "\n",
       "    .dataframe tbody tr th {\n",
       "        vertical-align: top;\n",
       "    }\n",
       "\n",
       "    .dataframe thead th {\n",
       "        text-align: right;\n",
       "    }\n",
       "</style>\n",
       "<table border=\"1\" class=\"dataframe\">\n",
       "  <thead>\n",
       "    <tr style=\"text-align: right;\">\n",
       "      <th></th>\n",
       "      <th>Product Name</th>\n",
       "      <th>Number Of Ratings</th>\n",
       "      <th>Star Rating</th>\n",
       "    </tr>\n",
       "  </thead>\n",
       "  <tbody>\n",
       "    <tr>\n",
       "      <th>20</th>\n",
       "      <td>APPLE iPhone 11 Pro Max (Midnight Green, 64 GB)</td>\n",
       "      <td>1078</td>\n",
       "      <td>4.7</td>\n",
       "    </tr>\n",
       "    <tr>\n",
       "      <th>17</th>\n",
       "      <td>APPLE iPhone 11 Pro Max (Space Grey, 64 GB)</td>\n",
       "      <td>1078</td>\n",
       "      <td>4.7</td>\n",
       "    </tr>\n",
       "    <tr>\n",
       "      <th>16</th>\n",
       "      <td>APPLE iPhone 11 Pro Max (Midnight Green, 256 GB)</td>\n",
       "      <td>1078</td>\n",
       "      <td>4.7</td>\n",
       "    </tr>\n",
       "    <tr>\n",
       "      <th>15</th>\n",
       "      <td>APPLE iPhone 11 Pro Max (Gold, 64 GB)</td>\n",
       "      <td>1078</td>\n",
       "      <td>4.7</td>\n",
       "    </tr>\n",
       "    <tr>\n",
       "      <th>14</th>\n",
       "      <td>APPLE iPhone 11 Pro Max (Gold, 256 GB)</td>\n",
       "      <td>1078</td>\n",
       "      <td>4.7</td>\n",
       "    </tr>\n",
       "    <tr>\n",
       "      <th>0</th>\n",
       "      <td>APPLE iPhone 8 Plus (Gold, 64 GB)</td>\n",
       "      <td>3431</td>\n",
       "      <td>4.6</td>\n",
       "    </tr>\n",
       "    <tr>\n",
       "      <th>29</th>\n",
       "      <td>APPLE iPhone 12 (White, 128 GB)</td>\n",
       "      <td>2101</td>\n",
       "      <td>4.6</td>\n",
       "    </tr>\n",
       "    <tr>\n",
       "      <th>32</th>\n",
       "      <td>APPLE iPhone 12 Pro Max (Graphite, 128 GB)</td>\n",
       "      <td>580</td>\n",
       "      <td>4.6</td>\n",
       "    </tr>\n",
       "    <tr>\n",
       "      <th>35</th>\n",
       "      <td>APPLE iPhone 12 (Black, 128 GB)</td>\n",
       "      <td>2101</td>\n",
       "      <td>4.6</td>\n",
       "    </tr>\n",
       "    <tr>\n",
       "      <th>36</th>\n",
       "      <td>APPLE iPhone 12 (Blue, 128 GB)</td>\n",
       "      <td>2101</td>\n",
       "      <td>4.6</td>\n",
       "    </tr>\n",
       "  </tbody>\n",
       "</table>\n",
       "</div>"
      ],
      "text/plain": [
       "                                        Product Name  Number Of Ratings  \\\n",
       "20   APPLE iPhone 11 Pro Max (Midnight Green, 64 GB)               1078   \n",
       "17       APPLE iPhone 11 Pro Max (Space Grey, 64 GB)               1078   \n",
       "16  APPLE iPhone 11 Pro Max (Midnight Green, 256 GB)               1078   \n",
       "15             APPLE iPhone 11 Pro Max (Gold, 64 GB)               1078   \n",
       "14            APPLE iPhone 11 Pro Max (Gold, 256 GB)               1078   \n",
       "0                  APPLE iPhone 8 Plus (Gold, 64 GB)               3431   \n",
       "29                   APPLE iPhone 12 (White, 128 GB)               2101   \n",
       "32        APPLE iPhone 12 Pro Max (Graphite, 128 GB)                580   \n",
       "35                   APPLE iPhone 12 (Black, 128 GB)               2101   \n",
       "36                    APPLE iPhone 12 (Blue, 128 GB)               2101   \n",
       "\n",
       "    Star Rating  \n",
       "20          4.7  \n",
       "17          4.7  \n",
       "16          4.7  \n",
       "15          4.7  \n",
       "14          4.7  \n",
       "0           4.6  \n",
       "29          4.6  \n",
       "32          4.6  \n",
       "35          4.6  \n",
       "36          4.6  "
      ]
     },
     "execution_count": 6,
     "metadata": {},
     "output_type": "execute_result"
    }
   ],
   "source": [
    "df = data.sort_values(by=['Star Rating'], ascending=False )\n",
    "df = df.head(10)\n",
    "df[['Product Name', 'Number Of Ratings', 'Star Rating']]"
   ]
  },
  {
   "cell_type": "markdown",
   "id": "2d911669",
   "metadata": {},
   "source": [
    "As we can see, below are the top **3 most liked iphones** on our dataset.\n",
    "\n",
    "1.APPLE iPhone 11 Pro Max (Midnight Green, 64 GB)\n",
    "\n",
    "2.APPLE iPhone 11 Pro Max (Space Grey, 64 GB)\n",
    "\n",
    "3.APPLE iPhone 11 Pro Max (Midnight Green, 256 GB)"
   ]
  },
  {
   "cell_type": "markdown",
   "id": "8b4b2335",
   "metadata": {},
   "source": [
    "Now, let's visualize the **number of ratings** of our top 10 rated iPhones. "
   ]
  },
  {
   "cell_type": "code",
   "execution_count": 15,
   "id": "9ba26af5",
   "metadata": {},
   "outputs": [],
   "source": [
    "top10_iphones = df.groupby('Product Name')['Number Of Ratings'].sum().reset_index()\n",
    "top10_iphones = top10_iphones.sort_values(by=['Number Of Ratings'], ascending=False)\n",
    "\n",
    "fig = px.bar(top10_iphones, x='Product Name', y='Number Of Ratings', title='Number of Ratings for most liked iPhones')\n",
    "fig.write_image(\"my_plot1.png\")"
   ]
  },
  {
   "cell_type": "markdown",
   "id": "0dfb0bc5",
   "metadata": {},
   "source": [
    "![Number of Ratings for most liked iPhones](my_plot1.png)"
   ]
  },
  {
   "cell_type": "markdown",
   "id": "5a3492a4",
   "metadata": {},
   "source": [
    "According to our bar graph above, iPhone 8 Plus (Gold, 64 GB) is the most rated iPhone, \n",
    "followed by iPhone 12 (Black, 128 GB) and iPhone 12 (Blue, 128GB)"
   ]
  },
  {
   "cell_type": "markdown",
   "id": "8ba9cee5",
   "metadata": {},
   "source": [
    "Now, let's visualize the **number of reviews** of our top 10 rated iPhones."
   ]
  },
  {
   "cell_type": "code",
   "execution_count": 14,
   "id": "3cec71c0",
   "metadata": {},
   "outputs": [],
   "source": [
    "top10_iphones = df.groupby('Product Name')['Number Of Reviews'].sum().reset_index()\n",
    "top10_iphones = top10_iphones.sort_values(by=['Number Of Reviews'], ascending=False)\n",
    "\n",
    "fig = px.bar(top10_iphones, x='Product Name', y='Number Of Reviews', title='Number of Reviews for most liked iPhones')\n",
    "fig.write_image(\"my_plot2.png\")"
   ]
  },
  {
   "cell_type": "markdown",
   "id": "98b9f90a",
   "metadata": {},
   "source": [
    "![Number of Reviews for most liked iPhones](my_plot2.png)"
   ]
  },
  {
   "cell_type": "markdown",
   "id": "40189096",
   "metadata": {},
   "source": [
    "As we can see, iPhone 8 Plus (Gold, 64 GB) is also leading the highest reviews chart.\n",
    "followed by the same 2 iPhone 12 (Black, 128 GB) and iPhone 12 (Blue, 128 GB)."
   ]
  },
  {
   "cell_type": "markdown",
   "id": "5c4eaa25",
   "metadata": {},
   "source": [
    "Now, Let's check the relation between the **sales prices** of the iPhones and their **ratings**."
   ]
  },
  {
   "cell_type": "code",
   "execution_count": 13,
   "id": "b494377c",
   "metadata": {},
   "outputs": [],
   "source": [
    "fig = px.scatter(data_frame = data, x='Number Of Ratings', y='Sale Price', size='Discount Percentage', trendline='ols', title='Sale Price and Number of Ratings of all iPhones')\n",
    "fig.write_image(\"my_img1.png\")"
   ]
  },
  {
   "cell_type": "markdown",
   "id": "38c35c2d",
   "metadata": {},
   "source": [
    "![Sale Price and Number of Ratings of all iPhones](my_img1.png)"
   ]
  },
  {
   "cell_type": "markdown",
   "id": "87d1fede",
   "metadata": {},
   "source": [
    "We can see a negative linear relationship between **sale price** to it's **number of ratings**.\n",
    "\n",
    "Our main insight is iPhone with lower sale prices are sold and rated more."
   ]
  },
  {
   "cell_type": "markdown",
   "id": "d65bb439",
   "metadata": {},
   "source": [
    "Now, Let's check the relation between the **discount percentage** of the iPhones and their **number of ratings**."
   ]
  },
  {
   "cell_type": "code",
   "execution_count": 12,
   "id": "99e0fa3a",
   "metadata": {},
   "outputs": [],
   "source": [
    "fig = px.scatter(data_frame = data, x='Number Of Ratings', y='Discount Percentage', size='Sale Price', trendline='ols', title='Discount Percentage and Number of Ratings of all iPhones')\n",
    "fig.write_image(\"my_img2.png\")"
   ]
  },
  {
   "cell_type": "markdown",
   "id": "7909c8f0",
   "metadata": {},
   "source": [
    "![Discount Percentage and Number of Ratings of all iPhones](my_img2.png)"
   ]
  },
  {
   "cell_type": "markdown",
   "id": "0330f50d",
   "metadata": {},
   "source": [
    "We can see a positive linear relationship between **discount percentage** to **it's number of ratings**\n",
    "\n",
    "Our main insight is iPhone with an higher discount percentage is sold and rated more.\n"
   ]
  },
  {
   "cell_type": "markdown",
   "id": "c7b0ab14",
   "metadata": {},
   "source": [
    "**Summary**"
   ]
  },
  {
   "cell_type": "markdown",
   "id": "ab10f7e6",
   "metadata": {},
   "source": [
    "1. We can see that the most rated reviewed and sold is the iPhone 8 Plus (Gold, 64GB)\n",
    "2. iPhones with lower sale prices are sold more.\n",
    "3. iPhones with higher discount percentage are sold more."
   ]
  }
 ],
 "metadata": {
  "kernelspec": {
   "display_name": "Python 3 (ipykernel)",
   "language": "python",
   "name": "python3"
  },
  "language_info": {
   "codemirror_mode": {
    "name": "ipython",
    "version": 3
   },
   "file_extension": ".py",
   "mimetype": "text/x-python",
   "name": "python",
   "nbconvert_exporter": "python",
   "pygments_lexer": "ipython3",
   "version": "3.11.4"
  }
 },
 "nbformat": 4,
 "nbformat_minor": 5
}
